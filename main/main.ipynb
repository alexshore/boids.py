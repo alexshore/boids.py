{
 "cells": [
  {
   "cell_type": "code",
   "execution_count": 133,
   "metadata": {},
   "outputs": [],
   "source": [
    "import pygad\n",
    "import pygad.torchga as torchga\n",
    "import torch\n",
    "import torch.nn as nn\n",
    "\n",
    "from pathlib import Path\n",
    "from time import sleep\n",
    "import numpy as np\n",
    "import math\n",
    "import random\n",
    "import arcade\n",
    "from copy import deepcopy"
   ]
  },
  {
   "cell_type": "code",
   "execution_count": 134,
   "metadata": {},
   "outputs": [],
   "source": [
    "import os\n",
    "os.environ[\"ARCADE_HEADLESS\"] = \"True\"\n",
    "\n",
    "CWD = \"C:\\\\Users\\\\Alex\\\\Desktop\\\\New Folder\\\\__UNI\\\\Project\\\\main\\\\main\""
   ]
  },
  {
   "cell_type": "code",
   "execution_count": 135,
   "metadata": {},
   "outputs": [],
   "source": [
    "SCREEN_WIDTH = 1200\n",
    "SCREEN_HEIGHT = 800\n",
    "\n",
    "BOID_MOVEMENT_SPEED = 5\n",
    "BOID_ROTATION_SPEED = 5\n",
    "\n",
    "NUMBER_OF_BOIDS = 10\n",
    "\n",
    "MODEL = nn.Sequential(\n",
    "    nn.Linear(in_features=3, out_features=6),\n",
    "    nn.Sigmoid(),\n",
    "    nn.Linear(in_features=6, out_features=9),\n",
    "    nn.Sigmoid(),\n",
    "    nn.Linear(in_features=9, out_features=4),\n",
    "    nn.Sigmoid(),\n",
    "    nn.Linear(in_features=4, out_features=2),\n",
    "    nn.ReLU(),\n",
    "    nn.Softmax()\n",
    ")"
   ]
  },
  {
   "cell_type": "code",
   "execution_count": 136,
   "metadata": {},
   "outputs": [],
   "source": [
    "class Boid(arcade.Sprite):\n",
    "    def __init__(self, weights):\n",
    "        super(Boid, self).__init__(filename=Path(CWD) / \"boid.png\", scale=0.5)\n",
    "\n",
    "        self.set_position(\n",
    "            center_x=random.randint(0, SCREEN_WIDTH),\n",
    "            center_y=random.randint(0, SCREEN_WIDTH),\n",
    "        )\n",
    "        self.speed = BOID_MOVEMENT_SPEED\n",
    "\n",
    "        self.rotation_speed = BOID_ROTATION_SPEED\n",
    "        \n",
    "        self.model = deepcopy(MODEL)\n",
    "        self.model.load_state_dict(torchga.model_weights_as_dict(model=self.model, weights_vector=weights))\n",
    "\n",
    "\n",
    "\n",
    "    def update(self):\n",
    "        rotation_direction = torch.argmax(self.model([self.center_x, self.center_y, self.radians]))\n",
    "\n",
    "        self.angle += self.rotation_speed if rotation_direction else (-self.rotation_speed)\n",
    "\n",
    "        self.set_position(\n",
    "            center_x=self.center_x + (-self.speed * math.sin(self.radians)),\n",
    "            center_y=self.center_y + (self.speed * math.cos(self.radians)),\n",
    "        )\n",
    "\n",
    "        self.wrap_around()\n",
    "        \n",
    "\n",
    "    # def update(self):\n",
    "    #     if random.random() < 0.01:\n",
    "    #         self.rotation_speed = -self.rotation_speed\n",
    "\n",
    "    #     self.angle += self.rotation_speed\n",
    "\n",
    "    #     self.set_position(\n",
    "    #         center_x=self.center_x + (-self.speed * math.sin(self.radians)),\n",
    "    #         center_y=self.center_y + (self.speed * math.cos(self.radians)),\n",
    "    #     )\n",
    "\n",
    "\n",
    "    def wrap_around(self):\n",
    "        if self.left < 0:\n",
    "            self.left += SCREEN_WIDTH\n",
    "        elif self.right > SCREEN_WIDTH - 1:\n",
    "            self.right -= SCREEN_WIDTH\n",
    "\n",
    "        if self.bottom < 0:\n",
    "            self.bottom += SCREEN_HEIGHT\n",
    "        elif self.top > SCREEN_HEIGHT - 1:\n",
    "            self.top -= SCREEN_HEIGHT"
   ]
  },
  {
   "cell_type": "code",
   "execution_count": 137,
   "metadata": {},
   "outputs": [],
   "source": [
    "class Simulation(arcade.Window):\n",
    "    def __init__(self, weights):\n",
    "        super().__init__(width=SCREEN_WIDTH, height=SCREEN_HEIGHT, update_rate=1 / 60)  # type: ignore\n",
    "        self.weights = weights\n",
    "        self.boid_list = arcade.SpriteList()\n",
    "\n",
    "    def setup(self):\n",
    "        self.boid_list[:] = [Boid(self.weights) for _ in range(NUMBER_OF_BOIDS)]\n",
    "\n",
    "        self.total_time = 0.0\n",
    "\n",
    "        arcade.set_background_color(arcade.color.SKY_BLUE)\n",
    "\n",
    "    def on_draw(self):\n",
    "        self.clear()\n",
    "        self.boid_list.draw()\n",
    "\n",
    "    def on_update(self, delta_time):\n",
    "        for boid in self.boid_list:\n",
    "            for collision in self.get_collisions(boid):\n",
    "                self.boid_list.remove(collision)\n",
    "        self.boid_list.update()\n",
    "        self.total_time += delta_time\n",
    "\n",
    "        if len(self.boid_list) < 10 or self.total_time > 10:\n",
    "            self.close()\n",
    "\n",
    "    def get_collisions(self, boid):\n",
    "        if collisions := arcade.check_for_collision_with_list(boid, self.boid_list):\n",
    "            return [boid] + collisions\n",
    "        return []\n",
    "\n",
    "    def calculate_fitness(self):\n",
    "        return self.total_time"
   ]
  },
  {
   "cell_type": "code",
   "execution_count": 138,
   "metadata": {},
   "outputs": [],
   "source": [
    "class BoidGame:\n",
    "    def __init__(self, weights):\n",
    "        self.weights = weights\n",
    "    def run(self):\n",
    "        window = Simulation(self.weights)\n",
    "        window.run()\n",
    "        sleep(10)\n",
    "        \n",
    "        return window.calculate_fitness()"
   ]
  },
  {
   "cell_type": "code",
   "execution_count": 139,
   "metadata": {},
   "outputs": [],
   "source": [
    "def fitness_func(solution, sol_idx):\n",
    "    print(solution)\n",
    "    return BoidGame(solution).run()"
   ]
  },
  {
   "cell_type": "code",
   "execution_count": 140,
   "metadata": {},
   "outputs": [],
   "source": [
    "def callback_generation(ga_instance):\n",
    "    print(f\"Generation = {ga_instance.generations_completed}\")\n",
    "    print(f\"Fitness    = {ga_instance.best_solution()[1]}\")"
   ]
  },
  {
   "cell_type": "code",
   "execution_count": 141,
   "metadata": {},
   "outputs": [],
   "source": [
    "NGEN = 100\n",
    "NPARENTS = 50\n",
    "\n",
    "torch_ga = torchga.TorchGA(model=deepcopy(MODEL), num_solutions=100)\n",
    "initial_population = torch_ga.population_weights\n"
   ]
  },
  {
   "cell_type": "code",
   "execution_count": 142,
   "metadata": {},
   "outputs": [
    {
     "name": "stdout",
     "output_type": "stream",
     "text": [
      "[-1.18077162 -0.27552464  0.58933137 -1.29739602 -0.16570714  0.87769209\n",
      " -0.47986238  0.56149627  0.27195092  0.41815086  0.01618799  0.44941792\n",
      "  0.05063093 -0.40792489  0.53601505  0.1786442  -0.4986289  -0.73306831\n",
      " -0.35927727 -0.04461694  0.44414423  0.0794468  -0.4327605  -0.63059434\n",
      "  0.29939741 -0.29593855 -0.20519694  0.38038745 -0.18374451 -0.39275489\n",
      " -0.47845601 -0.22686973  0.57833066  0.31253339  0.13225776  0.69082967\n",
      "  0.57517841 -1.26343755 -0.21227191  0.21697605  0.76559965  0.9947129\n",
      "  0.60992533  0.34082399  0.46101738 -1.03097429 -0.90997623  0.38940748\n",
      " -0.74127425 -0.6282234  -0.34324085  0.57041469 -0.42597918 -0.14221925\n",
      "  0.72815873  0.69775276 -0.20424507  0.51816843 -0.62578945  0.97239633\n",
      " -0.65396344  0.20979844 -0.22186823  0.50652736  1.08589547 -0.93960932\n",
      "  0.65540725  0.5045174  -0.74113634 -0.81182563 -0.66241748 -0.18062812\n",
      " -0.85836198 -0.08781821 -0.45421876 -0.02364241  0.92611214  0.16595166\n",
      "  0.86416428 -0.46235711  0.97673435 -0.37677803  1.31811482 -0.58525274\n",
      "  0.16834462 -0.42396422 -0.25869634  0.03169345  0.10441813 -1.00960883\n",
      "  0.80456302  0.88752437  0.65819182  0.02734404  0.46460863 -0.10213409\n",
      " -0.29571353  0.23279422  1.00460404 -1.06529025  0.46803968  0.34025371\n",
      "  0.16323468  0.42453079  1.07667288 -0.97967185 -0.76379496  0.56114229\n",
      "  0.49988613 -0.51557797  0.52020014 -0.73642988 -0.49931907 -0.44341531\n",
      "  0.25679057 -0.72955597  0.45380476 -0.03900016  0.86273869 -0.19068343\n",
      " -0.08694075 -1.01131701 -0.58604254 -0.23275811 -0.63001738 -0.26667223\n",
      " -0.12515261 -0.7291553   0.80373148  0.62262615 -0.73572877 -1.34203986\n",
      " -0.89893977  1.40544312  1.00138672 -0.46879859 -0.17321996]\n",
      "[-0.42516685  0.18112868 -0.07103962 -0.51154441 -0.16121289  0.22743565\n",
      " -0.2361722  -0.27972975 -0.11566424  0.51082301  0.45837879  0.50308406\n",
      " -0.36315179 -0.09782693 -0.3432883  -0.18637344  0.07979244 -0.48226443\n",
      " -0.36104572  0.43007267  0.43814719 -0.3998569   0.35185254 -0.42023757\n",
      " -0.22401163 -0.2457501  -0.09438485  0.17679012  0.24867839  0.12709767\n",
      "  0.28469896 -0.24598366 -0.35890031  0.09631157  0.34610355 -0.23187533\n",
      " -0.14025417 -0.3696388   0.12592721 -0.15531826  0.34507662  0.08518815\n",
      "  0.3554951  -0.36109856 -0.11396518 -0.3303161   0.07325292 -0.33109614\n",
      "  0.05321306 -0.31286293 -0.25543562  0.05227977  0.04042169 -0.06144983\n",
      " -0.17188184 -0.03119543 -0.36466223  0.3700648   0.06095541  0.15688878\n",
      "  0.15411907 -0.06355339 -0.03969231 -0.11037692  0.33734453 -0.02629629\n",
      "  0.20695555  0.02011335  0.18559843  0.02416006  0.10482347  0.38874108\n",
      "  0.02388844 -0.13098389 -0.07288411 -0.40824348 -0.07345349 -0.28401583\n",
      "  0.34732586  0.17306566  0.40244061  0.25002486  0.32190269 -0.38650683\n",
      " -0.1741372  -0.04747656  0.12842703 -0.22644365 -0.11335528 -0.18424115\n",
      "  0.03970394  0.1749132  -0.32264107 -0.24271858  0.05464408  0.13112572\n",
      " -0.04344675  0.11612383  0.20170906 -0.06868282  0.12614164 -0.32396913\n",
      " -0.18403864 -0.01611486  0.27926096 -0.25928089  0.00552166 -0.1120352\n",
      " -0.29536843  0.17772236  0.19821289 -0.26311442  0.29036477  0.00458929\n",
      "  0.1664387  -0.15609896 -0.06354186 -0.07287633  0.02613664  0.15777373\n",
      " -0.19119136 -0.17852545  0.10391948  0.16769537  0.20442364  0.22618118\n",
      "  0.15887794 -0.30306882 -0.0424881   0.18956351 -0.03507566 -0.35214353\n",
      " -0.31611681  0.47937506  0.02734709 -0.44221592 -0.13288617]\n"
     ]
    },
    {
     "ename": "TypeError",
     "evalue": "forward() takes 2 positional arguments but 4 were given",
     "output_type": "error",
     "traceback": [
      "\u001b[1;31m---------------------------------------------------------------------------\u001b[0m",
      "\u001b[1;31mTypeError\u001b[0m                                 Traceback (most recent call last)",
      "\u001b[1;32m~\\AppData\\Local\\Temp\\ipykernel_16480\\2501421851.py\u001b[0m in \u001b[0;36m<module>\u001b[1;34m\u001b[0m\n\u001b[0;32m      7\u001b[0m \u001b[0mprint\u001b[0m\u001b[1;33m(\u001b[0m\u001b[0minitial_population\u001b[0m\u001b[1;33m[\u001b[0m\u001b[1;36m1\u001b[0m\u001b[1;33m]\u001b[0m\u001b[1;33m)\u001b[0m\u001b[1;33m\u001b[0m\u001b[1;33m\u001b[0m\u001b[0m\n\u001b[0;32m      8\u001b[0m \u001b[1;33m\u001b[0m\u001b[0m\n\u001b[1;32m----> 9\u001b[1;33m \u001b[0mga_instance\u001b[0m\u001b[1;33m.\u001b[0m\u001b[0mrun\u001b[0m\u001b[1;33m(\u001b[0m\u001b[1;33m)\u001b[0m\u001b[1;33m\u001b[0m\u001b[1;33m\u001b[0m\u001b[0m\n\u001b[0m",
      "\u001b[1;32m~\\AppData\\Roaming\\Python\\Python39\\site-packages\\pygad\\pygad.py\u001b[0m in \u001b[0;36mrun\u001b[1;34m(self)\u001b[0m\n\u001b[0;32m   1313\u001b[0m \u001b[1;33m\u001b[0m\u001b[0m\n\u001b[0;32m   1314\u001b[0m         \u001b[1;31m# Measuring the fitness of each chromosome in the population. Save the fitness in the last_generation_fitness attribute.\u001b[0m\u001b[1;33m\u001b[0m\u001b[1;33m\u001b[0m\u001b[0m\n\u001b[1;32m-> 1315\u001b[1;33m         \u001b[0mself\u001b[0m\u001b[1;33m.\u001b[0m\u001b[0mlast_generation_fitness\u001b[0m \u001b[1;33m=\u001b[0m \u001b[0mself\u001b[0m\u001b[1;33m.\u001b[0m\u001b[0mcal_pop_fitness\u001b[0m\u001b[1;33m(\u001b[0m\u001b[1;33m)\u001b[0m\u001b[1;33m\u001b[0m\u001b[1;33m\u001b[0m\u001b[0m\n\u001b[0m\u001b[0;32m   1316\u001b[0m \u001b[1;33m\u001b[0m\u001b[0m\n\u001b[0;32m   1317\u001b[0m         \u001b[0mbest_solution\u001b[0m\u001b[1;33m,\u001b[0m \u001b[0mbest_solution_fitness\u001b[0m\u001b[1;33m,\u001b[0m \u001b[0mbest_match_idx\u001b[0m \u001b[1;33m=\u001b[0m \u001b[0mself\u001b[0m\u001b[1;33m.\u001b[0m\u001b[0mbest_solution\u001b[0m\u001b[1;33m(\u001b[0m\u001b[0mpop_fitness\u001b[0m\u001b[1;33m=\u001b[0m\u001b[0mself\u001b[0m\u001b[1;33m.\u001b[0m\u001b[0mlast_generation_fitness\u001b[0m\u001b[1;33m)\u001b[0m\u001b[1;33m\u001b[0m\u001b[1;33m\u001b[0m\u001b[0m\n",
      "\u001b[1;32m~\\AppData\\Roaming\\Python\\Python39\\site-packages\\pygad\\pygad.py\u001b[0m in \u001b[0;36mcal_pop_fitness\u001b[1;34m(self)\u001b[0m\n\u001b[0;32m   1233\u001b[0m                     \u001b[0mfitness\u001b[0m \u001b[1;33m=\u001b[0m \u001b[0mself\u001b[0m\u001b[1;33m.\u001b[0m\u001b[0mprevious_generation_fitness\u001b[0m\u001b[1;33m[\u001b[0m\u001b[0mparent_idx\u001b[0m\u001b[1;33m]\u001b[0m\u001b[1;33m\u001b[0m\u001b[1;33m\u001b[0m\u001b[0m\n\u001b[0;32m   1234\u001b[0m                 \u001b[1;32melse\u001b[0m\u001b[1;33m:\u001b[0m\u001b[1;33m\u001b[0m\u001b[1;33m\u001b[0m\u001b[0m\n\u001b[1;32m-> 1235\u001b[1;33m                     \u001b[0mfitness\u001b[0m \u001b[1;33m=\u001b[0m \u001b[0mself\u001b[0m\u001b[1;33m.\u001b[0m\u001b[0mfitness_func\u001b[0m\u001b[1;33m(\u001b[0m\u001b[0msol\u001b[0m\u001b[1;33m,\u001b[0m \u001b[0msol_idx\u001b[0m\u001b[1;33m)\u001b[0m\u001b[1;33m\u001b[0m\u001b[1;33m\u001b[0m\u001b[0m\n\u001b[0m\u001b[0;32m   1236\u001b[0m                     \u001b[1;32mif\u001b[0m \u001b[0mtype\u001b[0m\u001b[1;33m(\u001b[0m\u001b[0mfitness\u001b[0m\u001b[1;33m)\u001b[0m \u001b[1;32min\u001b[0m \u001b[0mGA\u001b[0m\u001b[1;33m.\u001b[0m\u001b[0msupported_int_float_types\u001b[0m\u001b[1;33m:\u001b[0m\u001b[1;33m\u001b[0m\u001b[1;33m\u001b[0m\u001b[0m\n\u001b[0;32m   1237\u001b[0m                         \u001b[1;32mpass\u001b[0m\u001b[1;33m\u001b[0m\u001b[1;33m\u001b[0m\u001b[0m\n",
      "\u001b[1;32m~\\AppData\\Local\\Temp\\ipykernel_16480\\3225850132.py\u001b[0m in \u001b[0;36mfitness_func\u001b[1;34m(solution, sol_idx)\u001b[0m\n\u001b[0;32m      1\u001b[0m \u001b[1;32mdef\u001b[0m \u001b[0mfitness_func\u001b[0m\u001b[1;33m(\u001b[0m\u001b[0msolution\u001b[0m\u001b[1;33m,\u001b[0m \u001b[0msol_idx\u001b[0m\u001b[1;33m)\u001b[0m\u001b[1;33m:\u001b[0m\u001b[1;33m\u001b[0m\u001b[1;33m\u001b[0m\u001b[0m\n\u001b[0;32m      2\u001b[0m     \u001b[0mprint\u001b[0m\u001b[1;33m(\u001b[0m\u001b[0msolution\u001b[0m\u001b[1;33m)\u001b[0m\u001b[1;33m\u001b[0m\u001b[1;33m\u001b[0m\u001b[0m\n\u001b[1;32m----> 3\u001b[1;33m     \u001b[1;32mreturn\u001b[0m \u001b[0mBoidGame\u001b[0m\u001b[1;33m(\u001b[0m\u001b[0msolution\u001b[0m\u001b[1;33m)\u001b[0m\u001b[1;33m.\u001b[0m\u001b[0mrun\u001b[0m\u001b[1;33m(\u001b[0m\u001b[1;33m)\u001b[0m\u001b[1;33m\u001b[0m\u001b[1;33m\u001b[0m\u001b[0m\n\u001b[0m",
      "\u001b[1;32m~\\AppData\\Local\\Temp\\ipykernel_16480\\2303393899.py\u001b[0m in \u001b[0;36mrun\u001b[1;34m(self)\u001b[0m\n\u001b[0;32m      4\u001b[0m     \u001b[1;32mdef\u001b[0m \u001b[0mrun\u001b[0m\u001b[1;33m(\u001b[0m\u001b[0mself\u001b[0m\u001b[1;33m)\u001b[0m\u001b[1;33m:\u001b[0m\u001b[1;33m\u001b[0m\u001b[1;33m\u001b[0m\u001b[0m\n\u001b[0;32m      5\u001b[0m         \u001b[0mwindow\u001b[0m \u001b[1;33m=\u001b[0m \u001b[0mSimulation\u001b[0m\u001b[1;33m(\u001b[0m\u001b[0mself\u001b[0m\u001b[1;33m.\u001b[0m\u001b[0mweights\u001b[0m\u001b[1;33m)\u001b[0m\u001b[1;33m\u001b[0m\u001b[1;33m\u001b[0m\u001b[0m\n\u001b[1;32m----> 6\u001b[1;33m         \u001b[0mwindow\u001b[0m\u001b[1;33m.\u001b[0m\u001b[0mrun\u001b[0m\u001b[1;33m(\u001b[0m\u001b[1;33m)\u001b[0m\u001b[1;33m\u001b[0m\u001b[1;33m\u001b[0m\u001b[0m\n\u001b[0m\u001b[0;32m      7\u001b[0m         \u001b[0msleep\u001b[0m\u001b[1;33m(\u001b[0m\u001b[1;36m10\u001b[0m\u001b[1;33m)\u001b[0m\u001b[1;33m\u001b[0m\u001b[1;33m\u001b[0m\u001b[0m\n\u001b[0;32m      8\u001b[0m \u001b[1;33m\u001b[0m\u001b[0m\n",
      "\u001b[1;32m~\\AppData\\Roaming\\Python\\Python39\\site-packages\\arcade\\application.py\u001b[0m in \u001b[0;36mrun\u001b[1;34m(self)\u001b[0m\n\u001b[0;32m    255\u001b[0m             \u001b[0mMyWindow\u001b[0m\u001b[1;33m(\u001b[0m\u001b[1;33m)\u001b[0m\u001b[1;33m.\u001b[0m\u001b[0mrun\u001b[0m\u001b[1;33m(\u001b[0m\u001b[1;33m)\u001b[0m\u001b[1;33m\u001b[0m\u001b[1;33m\u001b[0m\u001b[0m\n\u001b[0;32m    256\u001b[0m         \"\"\"\n\u001b[1;32m--> 257\u001b[1;33m         \u001b[0marcade\u001b[0m\u001b[1;33m.\u001b[0m\u001b[0mrun\u001b[0m\u001b[1;33m(\u001b[0m\u001b[1;33m)\u001b[0m\u001b[1;33m\u001b[0m\u001b[1;33m\u001b[0m\u001b[0m\n\u001b[0m\u001b[0;32m    258\u001b[0m \u001b[1;33m\u001b[0m\u001b[0m\n\u001b[0;32m    259\u001b[0m     \u001b[1;32mdef\u001b[0m \u001b[0mclose\u001b[0m\u001b[1;33m(\u001b[0m\u001b[0mself\u001b[0m\u001b[1;33m)\u001b[0m\u001b[1;33m:\u001b[0m\u001b[1;33m\u001b[0m\u001b[1;33m\u001b[0m\u001b[0m\n",
      "\u001b[1;32m~\\AppData\\Roaming\\Python\\Python39\\site-packages\\arcade\\window_commands.py\u001b[0m in \u001b[0;36mrun\u001b[1;34m()\u001b[0m\n\u001b[0;32m    321\u001b[0m \u001b[1;33m\u001b[0m\u001b[0m\n\u001b[0;32m    322\u001b[0m             \u001b[1;32mwith\u001b[0m \u001b[0mtimer_resolution\u001b[0m\u001b[1;33m(\u001b[0m\u001b[0mmsecs\u001b[0m\u001b[1;33m=\u001b[0m\u001b[1;36m10\u001b[0m\u001b[1;33m)\u001b[0m\u001b[1;33m:\u001b[0m\u001b[1;33m\u001b[0m\u001b[1;33m\u001b[0m\u001b[0m\n\u001b[1;32m--> 323\u001b[1;33m                 \u001b[0mpyglet\u001b[0m\u001b[1;33m.\u001b[0m\u001b[0mapp\u001b[0m\u001b[1;33m.\u001b[0m\u001b[0mrun\u001b[0m\u001b[1;33m(\u001b[0m\u001b[1;33m)\u001b[0m\u001b[1;33m\u001b[0m\u001b[1;33m\u001b[0m\u001b[0m\n\u001b[0m\u001b[0;32m    324\u001b[0m \u001b[1;33m\u001b[0m\u001b[0m\n\u001b[0;32m    325\u001b[0m \u001b[1;33m\u001b[0m\u001b[0m\n",
      "\u001b[1;32m~\\AppData\\Roaming\\Python\\Python39\\site-packages\\pyglet\\app\\__init__.py\u001b[0m in \u001b[0;36mrun\u001b[1;34m(interval)\u001b[0m\n\u001b[0;32m    105\u001b[0m \u001b[1;33m\u001b[0m\u001b[0m\n\u001b[0;32m    106\u001b[0m     \"\"\"\n\u001b[1;32m--> 107\u001b[1;33m     \u001b[0mevent_loop\u001b[0m\u001b[1;33m.\u001b[0m\u001b[0mrun\u001b[0m\u001b[1;33m(\u001b[0m\u001b[0minterval\u001b[0m\u001b[1;33m)\u001b[0m\u001b[1;33m\u001b[0m\u001b[1;33m\u001b[0m\u001b[0m\n\u001b[0m\u001b[0;32m    108\u001b[0m \u001b[1;33m\u001b[0m\u001b[0m\n\u001b[0;32m    109\u001b[0m \u001b[1;33m\u001b[0m\u001b[0m\n",
      "\u001b[1;32m~\\AppData\\Roaming\\Python\\Python39\\site-packages\\pyglet\\app\\base.py\u001b[0m in \u001b[0;36mrun\u001b[1;34m(self, interval)\u001b[0m\n\u001b[0;32m    182\u001b[0m \u001b[1;33m\u001b[0m\u001b[0m\n\u001b[0;32m    183\u001b[0m         \u001b[1;32mwhile\u001b[0m \u001b[1;32mnot\u001b[0m \u001b[0mself\u001b[0m\u001b[1;33m.\u001b[0m\u001b[0mhas_exit\u001b[0m\u001b[1;33m:\u001b[0m\u001b[1;33m\u001b[0m\u001b[1;33m\u001b[0m\u001b[0m\n\u001b[1;32m--> 184\u001b[1;33m             \u001b[0mtimeout\u001b[0m \u001b[1;33m=\u001b[0m \u001b[0mself\u001b[0m\u001b[1;33m.\u001b[0m\u001b[0midle\u001b[0m\u001b[1;33m(\u001b[0m\u001b[1;33m)\u001b[0m\u001b[1;33m\u001b[0m\u001b[1;33m\u001b[0m\u001b[0m\n\u001b[0m\u001b[0;32m    185\u001b[0m             \u001b[0mplatform_event_loop\u001b[0m\u001b[1;33m.\u001b[0m\u001b[0mstep\u001b[0m\u001b[1;33m(\u001b[0m\u001b[0mtimeout\u001b[0m\u001b[1;33m)\u001b[0m\u001b[1;33m\u001b[0m\u001b[1;33m\u001b[0m\u001b[0m\n\u001b[0;32m    186\u001b[0m \u001b[1;33m\u001b[0m\u001b[0m\n",
      "\u001b[1;32m~\\AppData\\Roaming\\Python\\Python39\\site-packages\\pyglet\\app\\base.py\u001b[0m in \u001b[0;36midle\u001b[1;34m(self)\u001b[0m\n\u001b[0;32m    243\u001b[0m         \"\"\"\n\u001b[0;32m    244\u001b[0m         \u001b[0mdt\u001b[0m \u001b[1;33m=\u001b[0m \u001b[0mself\u001b[0m\u001b[1;33m.\u001b[0m\u001b[0mclock\u001b[0m\u001b[1;33m.\u001b[0m\u001b[0mupdate_time\u001b[0m\u001b[1;33m(\u001b[0m\u001b[1;33m)\u001b[0m\u001b[1;33m\u001b[0m\u001b[1;33m\u001b[0m\u001b[0m\n\u001b[1;32m--> 245\u001b[1;33m         \u001b[0mself\u001b[0m\u001b[1;33m.\u001b[0m\u001b[0mclock\u001b[0m\u001b[1;33m.\u001b[0m\u001b[0mcall_scheduled_functions\u001b[0m\u001b[1;33m(\u001b[0m\u001b[0mdt\u001b[0m\u001b[1;33m)\u001b[0m\u001b[1;33m\u001b[0m\u001b[1;33m\u001b[0m\u001b[0m\n\u001b[0m\u001b[0;32m    246\u001b[0m \u001b[1;33m\u001b[0m\u001b[0m\n\u001b[0;32m    247\u001b[0m         \u001b[1;31m# Update timout\u001b[0m\u001b[1;33m\u001b[0m\u001b[1;33m\u001b[0m\u001b[0m\n",
      "\u001b[1;32m~\\AppData\\Roaming\\Python\\Python39\\site-packages\\pyglet\\clock.py\u001b[0m in \u001b[0;36mcall_scheduled_functions\u001b[1;34m(self, dt)\u001b[0m\n\u001b[0;32m    275\u001b[0m             \u001b[1;31m# execute the callback\u001b[0m\u001b[1;33m\u001b[0m\u001b[1;33m\u001b[0m\u001b[0m\n\u001b[0;32m    276\u001b[0m             \u001b[1;32mtry\u001b[0m\u001b[1;33m:\u001b[0m\u001b[1;33m\u001b[0m\u001b[1;33m\u001b[0m\u001b[0m\n\u001b[1;32m--> 277\u001b[1;33m                 \u001b[0mitem\u001b[0m\u001b[1;33m.\u001b[0m\u001b[0mfunc\u001b[0m\u001b[1;33m(\u001b[0m\u001b[0mnow\u001b[0m \u001b[1;33m-\u001b[0m \u001b[0mitem\u001b[0m\u001b[1;33m.\u001b[0m\u001b[0mlast_ts\u001b[0m\u001b[1;33m,\u001b[0m \u001b[1;33m*\u001b[0m\u001b[0mitem\u001b[0m\u001b[1;33m.\u001b[0m\u001b[0margs\u001b[0m\u001b[1;33m,\u001b[0m \u001b[1;33m**\u001b[0m\u001b[0mitem\u001b[0m\u001b[1;33m.\u001b[0m\u001b[0mkwargs\u001b[0m\u001b[1;33m)\u001b[0m\u001b[1;33m\u001b[0m\u001b[1;33m\u001b[0m\u001b[0m\n\u001b[0m\u001b[0;32m    278\u001b[0m             \u001b[1;32mexcept\u001b[0m \u001b[0mReferenceError\u001b[0m\u001b[1;33m:\u001b[0m\u001b[1;33m\u001b[0m\u001b[1;33m\u001b[0m\u001b[0m\n\u001b[0;32m    279\u001b[0m                 \u001b[1;32mpass\u001b[0m    \u001b[1;31m# weakly-referenced object no longer exists.\u001b[0m\u001b[1;33m\u001b[0m\u001b[1;33m\u001b[0m\u001b[0m\n",
      "\u001b[1;32m~\\AppData\\Roaming\\Python\\Python39\\site-packages\\arcade\\application.py\u001b[0m in \u001b[0;36m_dispatch_updates\u001b[1;34m(self, delta_time)\u001b[0m\n\u001b[0;32m    316\u001b[0m     \u001b[1;32mdef\u001b[0m \u001b[0m_dispatch_updates\u001b[0m\u001b[1;33m(\u001b[0m\u001b[0mself\u001b[0m\u001b[1;33m,\u001b[0m \u001b[0mdelta_time\u001b[0m\u001b[1;33m:\u001b[0m \u001b[0mfloat\u001b[0m\u001b[1;33m)\u001b[0m\u001b[1;33m:\u001b[0m\u001b[1;33m\u001b[0m\u001b[1;33m\u001b[0m\u001b[0m\n\u001b[0;32m    317\u001b[0m         \u001b[0mself\u001b[0m\u001b[1;33m.\u001b[0m\u001b[0mdispatch_event\u001b[0m\u001b[1;33m(\u001b[0m\u001b[1;34m'update'\u001b[0m\u001b[1;33m,\u001b[0m \u001b[0mdelta_time\u001b[0m\u001b[1;33m)\u001b[0m\u001b[1;33m\u001b[0m\u001b[1;33m\u001b[0m\u001b[0m\n\u001b[1;32m--> 318\u001b[1;33m         \u001b[0mself\u001b[0m\u001b[1;33m.\u001b[0m\u001b[0mdispatch_event\u001b[0m\u001b[1;33m(\u001b[0m\u001b[1;34m'on_update'\u001b[0m\u001b[1;33m,\u001b[0m \u001b[0mdelta_time\u001b[0m\u001b[1;33m)\u001b[0m\u001b[1;33m\u001b[0m\u001b[1;33m\u001b[0m\u001b[0m\n\u001b[0m\u001b[0;32m    319\u001b[0m \u001b[1;33m\u001b[0m\u001b[0m\n\u001b[0;32m    320\u001b[0m     \u001b[1;32mdef\u001b[0m \u001b[0mset_update_rate\u001b[0m\u001b[1;33m(\u001b[0m\u001b[0mself\u001b[0m\u001b[1;33m,\u001b[0m \u001b[0mrate\u001b[0m\u001b[1;33m:\u001b[0m \u001b[0mfloat\u001b[0m\u001b[1;33m)\u001b[0m\u001b[1;33m:\u001b[0m\u001b[1;33m\u001b[0m\u001b[1;33m\u001b[0m\u001b[0m\n",
      "\u001b[1;32m~\\AppData\\Roaming\\Python\\Python39\\site-packages\\pyglet\\window\\__init__.py\u001b[0m in \u001b[0;36mdispatch_event\u001b[1;34m(self, *args)\u001b[0m\n\u001b[0;32m   1359\u001b[0m     \u001b[1;32mdef\u001b[0m \u001b[0mdispatch_event\u001b[0m\u001b[1;33m(\u001b[0m\u001b[0mself\u001b[0m\u001b[1;33m,\u001b[0m \u001b[1;33m*\u001b[0m\u001b[0margs\u001b[0m\u001b[1;33m)\u001b[0m\u001b[1;33m:\u001b[0m\u001b[1;33m\u001b[0m\u001b[1;33m\u001b[0m\u001b[0m\n\u001b[0;32m   1360\u001b[0m         \u001b[1;32mif\u001b[0m \u001b[1;32mnot\u001b[0m \u001b[0mself\u001b[0m\u001b[1;33m.\u001b[0m\u001b[0m_enable_event_queue\u001b[0m \u001b[1;32mor\u001b[0m \u001b[0mself\u001b[0m\u001b[1;33m.\u001b[0m\u001b[0m_allow_dispatch_event\u001b[0m\u001b[1;33m:\u001b[0m\u001b[1;33m\u001b[0m\u001b[1;33m\u001b[0m\u001b[0m\n\u001b[1;32m-> 1361\u001b[1;33m             \u001b[0msuper\u001b[0m\u001b[1;33m(\u001b[0m\u001b[1;33m)\u001b[0m\u001b[1;33m.\u001b[0m\u001b[0mdispatch_event\u001b[0m\u001b[1;33m(\u001b[0m\u001b[1;33m*\u001b[0m\u001b[0margs\u001b[0m\u001b[1;33m)\u001b[0m\u001b[1;33m\u001b[0m\u001b[1;33m\u001b[0m\u001b[0m\n\u001b[0m\u001b[0;32m   1362\u001b[0m         \u001b[1;32melse\u001b[0m\u001b[1;33m:\u001b[0m\u001b[1;33m\u001b[0m\u001b[1;33m\u001b[0m\u001b[0m\n\u001b[0;32m   1363\u001b[0m             \u001b[0mself\u001b[0m\u001b[1;33m.\u001b[0m\u001b[0m_event_queue\u001b[0m\u001b[1;33m.\u001b[0m\u001b[0mappend\u001b[0m\u001b[1;33m(\u001b[0m\u001b[0margs\u001b[0m\u001b[1;33m)\u001b[0m\u001b[1;33m\u001b[0m\u001b[1;33m\u001b[0m\u001b[0m\n",
      "\u001b[1;32m~\\AppData\\Roaming\\Python\\Python39\\site-packages\\pyglet\\event.py\u001b[0m in \u001b[0;36mdispatch_event\u001b[1;34m(self, event_type, *args)\u001b[0m\n\u001b[0;32m    427\u001b[0m                 \u001b[1;32mraise\u001b[0m \u001b[0me\u001b[0m\u001b[1;33m\u001b[0m\u001b[1;33m\u001b[0m\u001b[0m\n\u001b[0;32m    428\u001b[0m         \u001b[1;32mexcept\u001b[0m \u001b[0mTypeError\u001b[0m \u001b[1;32mas\u001b[0m \u001b[0mexception\u001b[0m\u001b[1;33m:\u001b[0m\u001b[1;33m\u001b[0m\u001b[1;33m\u001b[0m\u001b[0m\n\u001b[1;32m--> 429\u001b[1;33m             \u001b[0mself\u001b[0m\u001b[1;33m.\u001b[0m\u001b[0m_raise_dispatch_exception\u001b[0m\u001b[1;33m(\u001b[0m\u001b[0mevent_type\u001b[0m\u001b[1;33m,\u001b[0m \u001b[0margs\u001b[0m\u001b[1;33m,\u001b[0m \u001b[0mgetattr\u001b[0m\u001b[1;33m(\u001b[0m\u001b[0mself\u001b[0m\u001b[1;33m,\u001b[0m \u001b[0mevent_type\u001b[0m\u001b[1;33m)\u001b[0m\u001b[1;33m,\u001b[0m \u001b[0mexception\u001b[0m\u001b[1;33m)\u001b[0m\u001b[1;33m\u001b[0m\u001b[1;33m\u001b[0m\u001b[0m\n\u001b[0m\u001b[0;32m    430\u001b[0m         \u001b[1;32melse\u001b[0m\u001b[1;33m:\u001b[0m\u001b[1;33m\u001b[0m\u001b[1;33m\u001b[0m\u001b[0m\n\u001b[0;32m    431\u001b[0m             \u001b[0minvoked\u001b[0m \u001b[1;33m=\u001b[0m \u001b[1;32mTrue\u001b[0m\u001b[1;33m\u001b[0m\u001b[1;33m\u001b[0m\u001b[0m\n",
      "\u001b[1;32m~\\AppData\\Roaming\\Python\\Python39\\site-packages\\pyglet\\event.py\u001b[0m in \u001b[0;36m_raise_dispatch_exception\u001b[1;34m(event_type, args, handler, exception)\u001b[0m\n\u001b[0;32m    479\u001b[0m \u001b[1;33m\u001b[0m\u001b[0m\n\u001b[0;32m    480\u001b[0m         \u001b[1;32melse\u001b[0m\u001b[1;33m:\u001b[0m\u001b[1;33m\u001b[0m\u001b[1;33m\u001b[0m\u001b[0m\n\u001b[1;32m--> 481\u001b[1;33m             \u001b[1;32mraise\u001b[0m \u001b[0mexception\u001b[0m\u001b[1;33m\u001b[0m\u001b[1;33m\u001b[0m\u001b[0m\n\u001b[0m\u001b[0;32m    482\u001b[0m \u001b[1;33m\u001b[0m\u001b[0m\n\u001b[0;32m    483\u001b[0m     \u001b[1;32mdef\u001b[0m \u001b[0mevent\u001b[0m\u001b[1;33m(\u001b[0m\u001b[0mself\u001b[0m\u001b[1;33m,\u001b[0m \u001b[1;33m*\u001b[0m\u001b[0margs\u001b[0m\u001b[1;33m)\u001b[0m\u001b[1;33m:\u001b[0m\u001b[1;33m\u001b[0m\u001b[1;33m\u001b[0m\u001b[0m\n",
      "\u001b[1;32m~\\AppData\\Roaming\\Python\\Python39\\site-packages\\pyglet\\event.py\u001b[0m in \u001b[0;36mdispatch_event\u001b[1;34m(self, event_type, *args)\u001b[0m\n\u001b[0;32m    420\u001b[0m         \u001b[1;31m# Check instance for an event handler\u001b[0m\u001b[1;33m\u001b[0m\u001b[1;33m\u001b[0m\u001b[0m\n\u001b[0;32m    421\u001b[0m         \u001b[1;32mtry\u001b[0m\u001b[1;33m:\u001b[0m\u001b[1;33m\u001b[0m\u001b[1;33m\u001b[0m\u001b[0m\n\u001b[1;32m--> 422\u001b[1;33m             \u001b[1;32mif\u001b[0m \u001b[0mgetattr\u001b[0m\u001b[1;33m(\u001b[0m\u001b[0mself\u001b[0m\u001b[1;33m,\u001b[0m \u001b[0mevent_type\u001b[0m\u001b[1;33m)\u001b[0m\u001b[1;33m(\u001b[0m\u001b[1;33m*\u001b[0m\u001b[0margs\u001b[0m\u001b[1;33m)\u001b[0m\u001b[1;33m:\u001b[0m\u001b[1;33m\u001b[0m\u001b[1;33m\u001b[0m\u001b[0m\n\u001b[0m\u001b[0;32m    423\u001b[0m                 \u001b[1;32mreturn\u001b[0m \u001b[0mEVENT_HANDLED\u001b[0m\u001b[1;33m\u001b[0m\u001b[1;33m\u001b[0m\u001b[0m\n\u001b[0;32m    424\u001b[0m         \u001b[1;32mexcept\u001b[0m \u001b[0mAttributeError\u001b[0m \u001b[1;32mas\u001b[0m \u001b[0me\u001b[0m\u001b[1;33m:\u001b[0m\u001b[1;33m\u001b[0m\u001b[1;33m\u001b[0m\u001b[0m\n",
      "\u001b[1;32m~\\AppData\\Local\\Temp\\ipykernel_16480\\3501196269.py\u001b[0m in \u001b[0;36mon_update\u001b[1;34m(self, delta_time)\u001b[0m\n\u001b[0;32m     18\u001b[0m             \u001b[1;32mfor\u001b[0m \u001b[0mcollision\u001b[0m \u001b[1;32min\u001b[0m \u001b[0mself\u001b[0m\u001b[1;33m.\u001b[0m\u001b[0mget_collisions\u001b[0m\u001b[1;33m(\u001b[0m\u001b[0mboid\u001b[0m\u001b[1;33m)\u001b[0m\u001b[1;33m:\u001b[0m\u001b[1;33m\u001b[0m\u001b[1;33m\u001b[0m\u001b[0m\n\u001b[0;32m     19\u001b[0m                 \u001b[0mself\u001b[0m\u001b[1;33m.\u001b[0m\u001b[0mboid_list\u001b[0m\u001b[1;33m.\u001b[0m\u001b[0mremove\u001b[0m\u001b[1;33m(\u001b[0m\u001b[0mcollision\u001b[0m\u001b[1;33m)\u001b[0m\u001b[1;33m\u001b[0m\u001b[1;33m\u001b[0m\u001b[0m\n\u001b[1;32m---> 20\u001b[1;33m         \u001b[0mself\u001b[0m\u001b[1;33m.\u001b[0m\u001b[0mboid_list\u001b[0m\u001b[1;33m.\u001b[0m\u001b[0mupdate\u001b[0m\u001b[1;33m(\u001b[0m\u001b[1;33m)\u001b[0m\u001b[1;33m\u001b[0m\u001b[1;33m\u001b[0m\u001b[0m\n\u001b[0m\u001b[0;32m     21\u001b[0m         \u001b[0mself\u001b[0m\u001b[1;33m.\u001b[0m\u001b[0mtotal_time\u001b[0m \u001b[1;33m+=\u001b[0m \u001b[0mdelta_time\u001b[0m\u001b[1;33m\u001b[0m\u001b[1;33m\u001b[0m\u001b[0m\n\u001b[0;32m     22\u001b[0m \u001b[1;33m\u001b[0m\u001b[0m\n",
      "\u001b[1;32m~\\AppData\\Roaming\\Python\\Python39\\site-packages\\arcade\\sprite_list\\sprite_list.py\u001b[0m in \u001b[0;36mupdate\u001b[1;34m(self)\u001b[0m\n\u001b[0;32m    830\u001b[0m         \"\"\"\n\u001b[0;32m    831\u001b[0m         \u001b[1;32mfor\u001b[0m \u001b[0msprite\u001b[0m \u001b[1;32min\u001b[0m \u001b[0mself\u001b[0m\u001b[1;33m.\u001b[0m\u001b[0msprite_list\u001b[0m\u001b[1;33m:\u001b[0m\u001b[1;33m\u001b[0m\u001b[1;33m\u001b[0m\u001b[0m\n\u001b[1;32m--> 832\u001b[1;33m             \u001b[0msprite\u001b[0m\u001b[1;33m.\u001b[0m\u001b[0mupdate\u001b[0m\u001b[1;33m(\u001b[0m\u001b[1;33m)\u001b[0m\u001b[1;33m\u001b[0m\u001b[1;33m\u001b[0m\u001b[0m\n\u001b[0m\u001b[0;32m    833\u001b[0m \u001b[1;33m\u001b[0m\u001b[0m\n\u001b[0;32m    834\u001b[0m     \u001b[1;32mdef\u001b[0m \u001b[0mon_update\u001b[0m\u001b[1;33m(\u001b[0m\u001b[0mself\u001b[0m\u001b[1;33m,\u001b[0m \u001b[0mdelta_time\u001b[0m\u001b[1;33m:\u001b[0m \u001b[0mfloat\u001b[0m \u001b[1;33m=\u001b[0m \u001b[1;36m1\u001b[0m \u001b[1;33m/\u001b[0m \u001b[1;36m60\u001b[0m\u001b[1;33m)\u001b[0m\u001b[1;33m:\u001b[0m\u001b[1;33m\u001b[0m\u001b[1;33m\u001b[0m\u001b[0m\n",
      "\u001b[1;32m~\\AppData\\Local\\Temp\\ipykernel_16480\\3128437628.py\u001b[0m in \u001b[0;36mupdate\u001b[1;34m(self)\u001b[0m\n\u001b[0;32m     17\u001b[0m \u001b[1;33m\u001b[0m\u001b[0m\n\u001b[0;32m     18\u001b[0m     \u001b[1;32mdef\u001b[0m \u001b[0mupdate\u001b[0m\u001b[1;33m(\u001b[0m\u001b[0mself\u001b[0m\u001b[1;33m)\u001b[0m\u001b[1;33m:\u001b[0m\u001b[1;33m\u001b[0m\u001b[1;33m\u001b[0m\u001b[0m\n\u001b[1;32m---> 19\u001b[1;33m         \u001b[0mrotation_direction\u001b[0m \u001b[1;33m=\u001b[0m \u001b[0mtorch\u001b[0m\u001b[1;33m.\u001b[0m\u001b[0margmax\u001b[0m\u001b[1;33m(\u001b[0m\u001b[0mself\u001b[0m\u001b[1;33m.\u001b[0m\u001b[0mmodel\u001b[0m\u001b[1;33m(\u001b[0m\u001b[0mself\u001b[0m\u001b[1;33m.\u001b[0m\u001b[0mcenter_x\u001b[0m\u001b[1;33m,\u001b[0m \u001b[0mself\u001b[0m\u001b[1;33m.\u001b[0m\u001b[0mcenter_y\u001b[0m\u001b[1;33m,\u001b[0m \u001b[0mself\u001b[0m\u001b[1;33m.\u001b[0m\u001b[0mradians\u001b[0m\u001b[1;33m)\u001b[0m\u001b[1;33m)\u001b[0m\u001b[1;33m\u001b[0m\u001b[1;33m\u001b[0m\u001b[0m\n\u001b[0m\u001b[0;32m     20\u001b[0m \u001b[1;33m\u001b[0m\u001b[0m\n\u001b[0;32m     21\u001b[0m         \u001b[0mself\u001b[0m\u001b[1;33m.\u001b[0m\u001b[0mangle\u001b[0m \u001b[1;33m+=\u001b[0m \u001b[0mself\u001b[0m\u001b[1;33m.\u001b[0m\u001b[0mrotation_speed\u001b[0m \u001b[1;32mif\u001b[0m \u001b[0mrotation_direction\u001b[0m \u001b[1;32melse\u001b[0m \u001b[1;33m(\u001b[0m\u001b[1;33m-\u001b[0m\u001b[0mself\u001b[0m\u001b[1;33m.\u001b[0m\u001b[0mrotation_speed\u001b[0m\u001b[1;33m)\u001b[0m\u001b[1;33m\u001b[0m\u001b[1;33m\u001b[0m\u001b[0m\n",
      "\u001b[1;32m~\\AppData\\Roaming\\Python\\Python39\\site-packages\\torch\\nn\\modules\\module.py\u001b[0m in \u001b[0;36m_call_impl\u001b[1;34m(self, *input, **kwargs)\u001b[0m\n\u001b[0;32m   1192\u001b[0m         if not (self._backward_hooks or self._forward_hooks or self._forward_pre_hooks or _global_backward_hooks\n\u001b[0;32m   1193\u001b[0m                 or _global_forward_hooks or _global_forward_pre_hooks):\n\u001b[1;32m-> 1194\u001b[1;33m             \u001b[1;32mreturn\u001b[0m \u001b[0mforward_call\u001b[0m\u001b[1;33m(\u001b[0m\u001b[1;33m*\u001b[0m\u001b[0minput\u001b[0m\u001b[1;33m,\u001b[0m \u001b[1;33m**\u001b[0m\u001b[0mkwargs\u001b[0m\u001b[1;33m)\u001b[0m\u001b[1;33m\u001b[0m\u001b[1;33m\u001b[0m\u001b[0m\n\u001b[0m\u001b[0;32m   1195\u001b[0m         \u001b[1;31m# Do not call functions when jit is used\u001b[0m\u001b[1;33m\u001b[0m\u001b[1;33m\u001b[0m\u001b[0m\n\u001b[0;32m   1196\u001b[0m         \u001b[0mfull_backward_hooks\u001b[0m\u001b[1;33m,\u001b[0m \u001b[0mnon_full_backward_hooks\u001b[0m \u001b[1;33m=\u001b[0m \u001b[1;33m[\u001b[0m\u001b[1;33m]\u001b[0m\u001b[1;33m,\u001b[0m \u001b[1;33m[\u001b[0m\u001b[1;33m]\u001b[0m\u001b[1;33m\u001b[0m\u001b[1;33m\u001b[0m\u001b[0m\n",
      "\u001b[1;31mTypeError\u001b[0m: forward() takes 2 positional arguments but 4 were given"
     ]
    },
    {
     "ename": "",
     "evalue": "",
     "output_type": "error",
     "traceback": [
      "\u001b[1;31mThe Kernel crashed while executing code in the the current cell or a previous cell. Please review the code in the cell(s) to identify a possible cause of the failure. Click <a href='https://aka.ms/vscodeJupyterKernelCrash'>here</a> for more info. View Jupyter <a href='command:jupyter.viewOutput'>log</a> for further details."
     ]
    }
   ],
   "source": [
    "ga_instance = pygad.GA(num_generations=NGEN,\n",
    "                       num_parents_mating=NPARENTS,\n",
    "                       initial_population=initial_population,\n",
    "                       fitness_func=fitness_func,\n",
    "                       on_generation=callback_generation)\n",
    "\n",
    "print(initial_population[1])\n",
    "\n",
    "ga_instance.run()"
   ]
  },
  {
   "cell_type": "code",
   "execution_count": null,
   "metadata": {},
   "outputs": [
    {
     "data": {
      "text/plain": [
       "array([ 0.81783004,  1.83929294,  0.2026002 , -1.24327719, -1.26544833,\n",
       "        2.80112758, -1.069781  ,  1.9883045 , -2.12510988,  5.01447091,\n",
       "        1.01614581,  0.57826494, -1.60353428, -1.82088247,  4.55565227,\n",
       "       -1.22029371, -2.97228826, -0.35079501,  0.6283697 , -3.01034781,\n",
       "        4.67833827,  0.28363158, -2.35245686, -2.11233219, -1.4163822 ,\n",
       "       -2.42032166, -0.06623994, -0.44653508,  3.52772199, -1.13495002,\n",
       "       -0.09817154, -2.66704958, -4.23829941,  4.13196019,  0.27940939,\n",
       "       -0.7591249 ,  1.25332424,  2.08284837,  1.4885268 , -4.65207987,\n",
       "        0.45977384, -1.66483089,  0.46726655, -0.26320219,  0.7349008 ,\n",
       "       -1.00544548, -1.19667168,  2.12794286, -1.1441389 , -2.78302373,\n",
       "        1.6059592 , -0.55882884,  1.25896305, -1.73177682,  0.7863913 ,\n",
       "        0.74618165,  1.02214433, -3.13653188,  1.41380567, -0.36514079,\n",
       "        1.1486488 , -1.67938685, -1.51155437, -3.1733401 , -1.42991739,\n",
       "       -1.79337443, -1.94973683,  2.76882259,  0.78285875,  0.26143562,\n",
       "       -1.11427789,  3.48293572,  0.16050836, -6.24748628,  0.33674441,\n",
       "       -1.65021683,  0.13906602,  0.30923604, -0.89473141,  0.31938239,\n",
       "       -0.46960589, -0.64752964, -1.3154556 , -0.10688222, -0.65809781,\n",
       "       -0.30386472,  3.40832299,  1.43730824, -1.189334  , -0.35279689,\n",
       "        2.64587835,  2.18520749,  1.11218656, -1.6779316 , -1.2437916 ,\n",
       "       -0.3074876 , -0.65677982, -1.08205309, -0.36048597,  0.2642827 ,\n",
       "       -1.24777669,  1.88063075, -0.48648758, -3.76566036, -2.20181605,\n",
       "        1.32017781, -0.98838371, -0.38670811, -1.8410871 ,  0.8844362 ,\n",
       "        3.48739375,  0.75692085,  1.11736301, -0.34740743,  0.79019608,\n",
       "        5.6959518 ,  0.07107218,  1.25852016,  2.95645672,  0.20825603,\n",
       "        0.66703422,  1.89962219, -0.54554263,  1.03592694, -2.19095556,\n",
       "        2.18969524, -0.44201061,  1.16891023,  0.89856426, -0.7944827 ,\n",
       "       -2.52133967,  0.50525711, -3.3352437 ,  1.71100221, -1.40601441,\n",
       "        0.04986149, -0.596497  ])"
      ]
     },
     "execution_count": 72,
     "metadata": {},
     "output_type": "execute_result"
    }
   ],
   "source": [
    "ga_instance.population[1]\n"
   ]
  }
 ],
 "metadata": {
  "kernelspec": {
   "display_name": "base",
   "language": "python",
   "name": "python3"
  },
  "language_info": {
   "codemirror_mode": {
    "name": "ipython",
    "version": 3
   },
   "file_extension": ".py",
   "mimetype": "text/x-python",
   "name": "python",
   "nbconvert_exporter": "python",
   "pygments_lexer": "ipython3",
   "version": "3.9.13"
  },
  "orig_nbformat": 4,
  "vscode": {
   "interpreter": {
    "hash": "ad2bdc8ecc057115af97d19610ffacc2b4e99fae6737bb82f5d7fb13d2f2c186"
   }
  }
 },
 "nbformat": 4,
 "nbformat_minor": 2
}
